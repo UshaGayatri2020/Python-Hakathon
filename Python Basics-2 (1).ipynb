{
 "cells": [
  {
   "cell_type": "markdown",
   "id": "1026ae45",
   "metadata": {},
   "source": [
    "# LISTS"
   ]
  },
  {
   "cell_type": "code",
   "execution_count": null,
   "id": "6753fc44",
   "metadata": {},
   "outputs": [],
   "source": [
    "\"\"\"Functions are independent blocks of code that can be called from anywhere, \n",
    "while methods are tied to objects or classes and need an object or class instance to be invoked.\"\"\""
   ]
  },
  {
   "cell_type": "code",
   "execution_count": null,
   "id": "ff8fcced",
   "metadata": {},
   "outputs": [],
   "source": []
  },
  {
   "cell_type": "code",
   "execution_count": null,
   "id": "467fcff5",
   "metadata": {},
   "outputs": [],
   "source": []
  },
  {
   "cell_type": "code",
   "execution_count": 1,
   "id": "2766cc9b",
   "metadata": {},
   "outputs": [],
   "source": [
    "list1 = [1,2,3,4,5]                      #index   0  1  2  3  4\n",
    "                                         #values  1  2  3  4  5"
   ]
  },
  {
   "cell_type": "code",
   "execution_count": 2,
   "id": "ea0356f5",
   "metadata": {},
   "outputs": [],
   "source": [
    "list2 = [6,7,\"usha\", \"gayatri\"]     #index   0  1     2       3  \n",
    "                                    #values  6  7  \"usha\"  \"gayatri\"    "
   ]
  },
  {
   "cell_type": "code",
   "execution_count": 4,
   "id": "2a4b0fe7",
   "metadata": {},
   "outputs": [
    {
     "name": "stdout",
     "output_type": "stream",
     "text": [
      "[1, 2, 3, 4, 5]\n",
      "[6, 7, 'usha', 'gayatri']\n"
     ]
    }
   ],
   "source": [
    "print(list1)\n",
    "print(list2)"
   ]
  },
  {
   "cell_type": "code",
   "execution_count": 5,
   "id": "cc9101f8",
   "metadata": {},
   "outputs": [
    {
     "name": "stdout",
     "output_type": "stream",
     "text": [
      "3\n"
     ]
    }
   ],
   "source": [
    "print(list1[2])"
   ]
  },
  {
   "cell_type": "code",
   "execution_count": 7,
   "id": "48e3f3bf",
   "metadata": {},
   "outputs": [
    {
     "name": "stdout",
     "output_type": "stream",
     "text": [
      "[2, 3]\n"
     ]
    }
   ],
   "source": [
    "print(list1[1:3])"
   ]
  },
  {
   "cell_type": "code",
   "execution_count": null,
   "id": "0f2cd36a",
   "metadata": {},
   "outputs": [],
   "source": [
    "print(list1*2)"
   ]
  },
  {
   "cell_type": "code",
   "execution_count": 8,
   "id": "d881ef38",
   "metadata": {},
   "outputs": [
    {
     "name": "stdout",
     "output_type": "stream",
     "text": [
      "[1, 'Jaya', 3, 4, 5]\n"
     ]
    }
   ],
   "source": [
    "list1[1] = \"Jaya\"\n",
    "print(list1)"
   ]
  },
  {
   "cell_type": "markdown",
   "id": "695d1f46",
   "metadata": {},
   "source": [
    "# TUPLE  (Read only lists)"
   ]
  },
  {
   "cell_type": "code",
   "execution_count": 2,
   "id": "87ba944b",
   "metadata": {},
   "outputs": [
    {
     "name": "stdout",
     "output_type": "stream",
     "text": [
      "(3, 6, 4, 7, 2)\n"
     ]
    }
   ],
   "source": [
    "tuple1 = (3,6,4,7,2)\n",
    "print(tuple1)"
   ]
  },
  {
   "cell_type": "code",
   "execution_count": 11,
   "id": "5421c4b6",
   "metadata": {},
   "outputs": [
    {
     "name": "stdout",
     "output_type": "stream",
     "text": [
      "()\n",
      "(1, 2, 3)\n",
      "(1, 'Hello', 3.4)\n",
      "('mouse', [8, 4, 6], (1, 2, 3))\n"
     ]
    }
   ],
   "source": [
    "# Different types of tuples\n",
    "\n",
    "# Empty tuple\n",
    "my_tuple = ()\n",
    "print(my_tuple)\n",
    "\n",
    "# Tuple having integers\n",
    "my_tuple = (1, 2, 3)\n",
    "print(my_tuple)\n",
    "\n",
    "# tuple with mixed datatypes\n",
    "my_tuple = (1, \"Hello\", 3.4)\n",
    "print(my_tuple)\n",
    "\n",
    "# nested tuple\n",
    "my_tuple = (\"mouse\", [8, 4, 6], (1, 2, 3))\n",
    "print(my_tuple)"
   ]
  },
  {
   "cell_type": "code",
   "execution_count": 20,
   "id": "687814c6",
   "metadata": {},
   "outputs": [
    {
     "name": "stdout",
     "output_type": "stream",
     "text": [
      "([8, 4, 6],)\n"
     ]
    }
   ],
   "source": [
    "print(my_tuple[1:2])"
   ]
  },
  {
   "cell_type": "code",
   "execution_count": 21,
   "id": "b86e6d9b",
   "metadata": {},
   "outputs": [
    {
     "name": "stdout",
     "output_type": "stream",
     "text": [
      "('mouse', [8, 4, 6], (1, 2, 3))\n"
     ]
    }
   ],
   "source": [
    "print(my_tuple[:])"
   ]
  },
  {
   "cell_type": "code",
   "execution_count": 25,
   "id": "ea3bb761",
   "metadata": {},
   "outputs": [
    {
     "name": "stdout",
     "output_type": "stream",
     "text": [
      "(3, 6, 4, 7, 2)\n"
     ]
    }
   ],
   "source": [
    "tuple1 = (3,6,4,7,2)\n",
    "print(tuple1)"
   ]
  },
  {
   "cell_type": "code",
   "execution_count": 26,
   "id": "ae16c901",
   "metadata": {},
   "outputs": [
    {
     "name": "stdout",
     "output_type": "stream",
     "text": [
      "6\n"
     ]
    }
   ],
   "source": [
    "print(tuple1[1])"
   ]
  },
  {
   "cell_type": "code",
   "execution_count": 27,
   "id": "9f93da9e",
   "metadata": {},
   "outputs": [
    {
     "data": {
      "text/plain": [
       "4"
      ]
     },
     "execution_count": 27,
     "metadata": {},
     "output_type": "execute_result"
    }
   ],
   "source": [
    "tuple1.index(2)"
   ]
  },
  {
   "cell_type": "code",
   "execution_count": 28,
   "id": "f799122f",
   "metadata": {},
   "outputs": [
    {
     "data": {
      "text/plain": [
       "1"
      ]
     },
     "execution_count": 28,
     "metadata": {},
     "output_type": "execute_result"
    }
   ],
   "source": [
    "tuple1.count(2)"
   ]
  },
  {
   "cell_type": "code",
   "execution_count": 30,
   "id": "b741862d",
   "metadata": {},
   "outputs": [
    {
     "data": {
      "text/plain": [
       "[2, 3, 4, 6, 7]"
      ]
     },
     "execution_count": 30,
     "metadata": {},
     "output_type": "execute_result"
    }
   ],
   "source": [
    "sorted(tuple1)"
   ]
  },
  {
   "cell_type": "code",
   "execution_count": 34,
   "id": "1a71f59a",
   "metadata": {},
   "outputs": [
    {
     "data": {
      "text/plain": [
       "[7, 6, 4, 3, 2]"
      ]
     },
     "execution_count": 34,
     "metadata": {},
     "output_type": "execute_result"
    }
   ],
   "source": [
    "sorted(tuple1, reverse=True)"
   ]
  },
  {
   "cell_type": "code",
   "execution_count": 5,
   "id": "a982d7d9",
   "metadata": {},
   "outputs": [
    {
     "ename": "TypeError",
     "evalue": "'tuple' object does not support item assignment",
     "output_type": "error",
     "traceback": [
      "\u001b[1;31m---------------------------------------------------------------------------\u001b[0m",
      "\u001b[1;31mTypeError\u001b[0m                                 Traceback (most recent call last)",
      "\u001b[1;32m<ipython-input-5-dd8293303b1d>\u001b[0m in \u001b[0;36m<module>\u001b[1;34m\u001b[0m\n\u001b[1;32m----> 1\u001b[1;33m \u001b[0mtuple1\u001b[0m\u001b[1;33m[\u001b[0m\u001b[1;36m1\u001b[0m\u001b[1;33m]\u001b[0m \u001b[1;33m=\u001b[0m \u001b[1;36m9\u001b[0m\u001b[1;33m\u001b[0m\u001b[1;33m\u001b[0m\u001b[0m\n\u001b[0m",
      "\u001b[1;31mTypeError\u001b[0m: 'tuple' object does not support item assignment"
     ]
    }
   ],
   "source": [
    "tuple1[1] = 9   #error because tuples are not mutable "
   ]
  },
  {
   "cell_type": "code",
   "execution_count": 6,
   "id": "53031eed",
   "metadata": {},
   "outputs": [
    {
     "name": "stdout",
     "output_type": "stream",
     "text": [
      "5\n"
     ]
    }
   ],
   "source": [
    "l = len(tuple1)\n",
    "print(l)"
   ]
  },
  {
   "cell_type": "code",
   "execution_count": 32,
   "id": "0f3f2289",
   "metadata": {},
   "outputs": [],
   "source": [
    "tuple3=(5,3,7,1,8,2,4)"
   ]
  },
  {
   "cell_type": "code",
   "execution_count": 35,
   "id": "20cb4c0d",
   "metadata": {},
   "outputs": [
    {
     "data": {
      "text/plain": [
       "30"
      ]
     },
     "execution_count": 35,
     "metadata": {},
     "output_type": "execute_result"
    }
   ],
   "source": [
    "sum(tuple3)"
   ]
  },
  {
   "cell_type": "code",
   "execution_count": 36,
   "id": "1d6a9f09",
   "metadata": {},
   "outputs": [
    {
     "data": {
      "text/plain": [
       "40"
      ]
     },
     "execution_count": 36,
     "metadata": {},
     "output_type": "execute_result"
    }
   ],
   "source": [
    "#add items of an itrable\n",
    "sum(tuple3, 10)"
   ]
  },
  {
   "cell_type": "code",
   "execution_count": 16,
   "id": "04732a44",
   "metadata": {},
   "outputs": [],
   "source": [
    "tuple2 = (2,3.4,\"usha\", 5,2, \"gayatri\",2,)"
   ]
  },
  {
   "cell_type": "code",
   "execution_count": 17,
   "id": "567c49f0",
   "metadata": {},
   "outputs": [
    {
     "data": {
      "text/plain": [
       "3"
      ]
     },
     "execution_count": 17,
     "metadata": {},
     "output_type": "execute_result"
    }
   ],
   "source": [
    "tuple2.count(2)"
   ]
  },
  {
   "cell_type": "code",
   "execution_count": 32,
   "id": "e4eea5a9",
   "metadata": {},
   "outputs": [
    {
     "name": "stdout",
     "output_type": "stream",
     "text": [
      "(3.4, 'usha')\n"
     ]
    }
   ],
   "source": [
    "print(tuple2[1:3])"
   ]
  },
  {
   "cell_type": "code",
   "execution_count": 33,
   "id": "02723c0e",
   "metadata": {},
   "outputs": [
    {
     "name": "stdout",
     "output_type": "stream",
     "text": [
      "(2, 3.4, 'usha', 5, 'gayatri')\n"
     ]
    }
   ],
   "source": [
    "print(tuple2[0:5])"
   ]
  },
  {
   "cell_type": "code",
   "execution_count": 34,
   "id": "ccf8347d",
   "metadata": {},
   "outputs": [
    {
     "name": "stdout",
     "output_type": "stream",
     "text": [
      "5\n"
     ]
    }
   ],
   "source": [
    "print(len(tuple2))"
   ]
  },
  {
   "cell_type": "code",
   "execution_count": 12,
   "id": "0881a710",
   "metadata": {},
   "outputs": [
    {
     "name": "stdout",
     "output_type": "stream",
     "text": [
      "7\n"
     ]
    }
   ],
   "source": [
    "print(max(tuple1))"
   ]
  },
  {
   "cell_type": "code",
   "execution_count": 13,
   "id": "1f57093d",
   "metadata": {},
   "outputs": [
    {
     "name": "stdout",
     "output_type": "stream",
     "text": [
      "2\n"
     ]
    }
   ],
   "source": [
    "print(min(tuple1))"
   ]
  },
  {
   "cell_type": "code",
   "execution_count": null,
   "id": "43dcffe8",
   "metadata": {},
   "outputs": [],
   "source": [
    "#sorted\n"
   ]
  },
  {
   "cell_type": "code",
   "execution_count": null,
   "id": "c0bd2fe5",
   "metadata": {},
   "outputs": [],
   "source": [
    "#sum"
   ]
  },
  {
   "cell_type": "code",
   "execution_count": null,
   "id": "42739a3c",
   "metadata": {},
   "outputs": [],
   "source": [
    "#tuple"
   ]
  },
  {
   "cell_type": "code",
   "execution_count": 14,
   "id": "30865061",
   "metadata": {},
   "outputs": [
    {
     "name": "stdout",
     "output_type": "stream",
     "text": [
      "False\n",
      "True\n"
     ]
    }
   ],
   "source": [
    "languages = ('Python', 'Swift', 'C++')\n",
    "\n",
    "print('C' in languages)    # False\n",
    "print('Python' in languages)    # True"
   ]
  },
  {
   "cell_type": "code",
   "execution_count": null,
   "id": "c117f44b",
   "metadata": {},
   "outputs": [],
   "source": [
    "#languages = ('Python', 'Swift', 'C++')\n",
    "\n",
    "# iterating through the tuple\n",
    "for language in languages:\n",
    "    print(language)"
   ]
  },
  {
   "cell_type": "markdown",
   "id": "0c24adc8",
   "metadata": {},
   "source": [
    "# DICTIONARY  "
   ]
  },
  {
   "cell_type": "code",
   "execution_count": 63,
   "id": "7281619e",
   "metadata": {},
   "outputs": [
    {
     "name": "stdout",
     "output_type": "stream",
     "text": [
      "{101: 'Python', 102: 'SQL', 103: 'Tableau'}\n"
     ]
    }
   ],
   "source": [
    "dict1 = {101:'Python',\n",
    "         102:'SQL',\n",
    "         103:'Tableau'\n",
    "        }\n",
    "print(dict1)"
   ]
  },
  {
   "cell_type": "code",
   "execution_count": 5,
   "id": "4b22abb9",
   "metadata": {},
   "outputs": [
    {
     "name": "stdout",
     "output_type": "stream",
     "text": [
      "{101: 'Python', 102: 'SQL', 103: 'Tableau'}\n"
     ]
    }
   ],
   "source": [
    "print(dict1)"
   ]
  },
  {
   "cell_type": "code",
   "execution_count": 6,
   "id": "9b5f6602",
   "metadata": {},
   "outputs": [
    {
     "name": "stdout",
     "output_type": "stream",
     "text": [
      "dict_keys([101, 102, 103])\n"
     ]
    }
   ],
   "source": [
    "print(dict1.keys())"
   ]
  },
  {
   "cell_type": "code",
   "execution_count": 7,
   "id": "17cac663",
   "metadata": {},
   "outputs": [
    {
     "name": "stdout",
     "output_type": "stream",
     "text": [
      "SQL\n"
     ]
    }
   ],
   "source": [
    "a = dict1.get(102)\n",
    "print(a)"
   ]
  },
  {
   "cell_type": "code",
   "execution_count": 8,
   "id": "517287b9",
   "metadata": {},
   "outputs": [],
   "source": []
  },
  {
   "cell_type": "code",
   "execution_count": 64,
   "id": "97f15142",
   "metadata": {},
   "outputs": [
    {
     "name": "stdout",
     "output_type": "stream",
     "text": [
      "{101: 'Python', 102: 'SQL', 103: 'Tableau', 104: 'Power BI'}\n"
     ]
    }
   ],
   "source": [
    "d2 = {104:'Power BI'}\n",
    "dict1.update(d2)\n",
    "print(dict1)"
   ]
  },
  {
   "cell_type": "code",
   "execution_count": 10,
   "id": "d908767a",
   "metadata": {},
   "outputs": [
    {
     "name": "stdout",
     "output_type": "stream",
     "text": [
      "{}\n"
     ]
    }
   ],
   "source": [
    "d2.clear()\n",
    "print(d2)"
   ]
  },
  {
   "cell_type": "code",
   "execution_count": 11,
   "id": "236ca067",
   "metadata": {},
   "outputs": [
    {
     "name": "stdout",
     "output_type": "stream",
     "text": [
      "{101: 'Python', 102: 'SQL', 103: 'Tableau', 104: 'Power BI'}\n"
     ]
    }
   ],
   "source": [
    "print(dict1)"
   ]
  },
  {
   "cell_type": "code",
   "execution_count": null,
   "id": "f6e6d8d1",
   "metadata": {},
   "outputs": [],
   "source": [
    "# create an empty dictionary\n",
    "empty_dictionary = { }"
   ]
  },
  {
   "cell_type": "code",
   "execution_count": 67,
   "id": "f74cf973",
   "metadata": {},
   "outputs": [
    {
     "name": "stdout",
     "output_type": "stream",
     "text": [
      "SQL\n"
     ]
    }
   ],
   "source": [
    "print(dict1.pop(102))"
   ]
  },
  {
   "cell_type": "code",
   "execution_count": 68,
   "id": "a13310b8",
   "metadata": {},
   "outputs": [
    {
     "name": "stdout",
     "output_type": "stream",
     "text": [
      "{101: 'Python', 103: 'Tableau', 104: 'Power BI'}\n"
     ]
    }
   ],
   "source": [
    "print(dict1)"
   ]
  },
  {
   "cell_type": "code",
   "execution_count": 70,
   "id": "8ae5d173",
   "metadata": {},
   "outputs": [
    {
     "name": "stdout",
     "output_type": "stream",
     "text": [
      "{101: 'Python', 103: 'Tableau', 104: 'Power BI', 105: 'Java'}\n"
     ]
    }
   ],
   "source": [
    "#The popitem() method removes and returns the (key, value) pair from \n",
    "#the dictionary in the Last In, First Out (LIFO) order.\n",
    "dict1[105] = 'Java'\n",
    "print(dict1)"
   ]
  },
  {
   "cell_type": "code",
   "execution_count": 71,
   "id": "c860f0c9",
   "metadata": {},
   "outputs": [
    {
     "name": "stdout",
     "output_type": "stream",
     "text": [
      "(105, 'Java')\n"
     ]
    }
   ],
   "source": [
    "print(dict1.popitem())"
   ]
  },
  {
   "cell_type": "code",
   "execution_count": null,
   "id": "d43270f9",
   "metadata": {},
   "outputs": [],
   "source": []
  },
  {
   "cell_type": "markdown",
   "id": "1888b595",
   "metadata": {},
   "source": [
    "# SET  -> A set is a collection of unique data. That is, elements of a set cannot be duplicate."
   ]
  },
  {
   "cell_type": "code",
   "execution_count": null,
   "id": "456d5247",
   "metadata": {},
   "outputs": [],
   "source": [
    "\"\"\"A set can have any number of items and they may be of different types (integer, float, tuple, string etc.). \n",
    "But a set cannot have mutable elements like lists, sets or dictionaries as its elements.\"\"\"\n",
    "#Set items are unordered, unchangeable, and do not allow duplicate values."
   ]
  },
  {
   "cell_type": "code",
   "execution_count": null,
   "id": "7c3bfb6f",
   "metadata": {},
   "outputs": [],
   "source": [
    "# create a set of integer type\n",
    "student_id = {112, 114, 116, 118, 115}\n",
    "print('Student ID:', student_id)"
   ]
  },
  {
   "cell_type": "code",
   "execution_count": null,
   "id": "52569704",
   "metadata": {},
   "outputs": [],
   "source": [
    "# create a set of string type\n",
    "vowel_letters = {'a', 'e', 'i', 'o', 'u'}\n",
    "print('Vowel Letters:', vowel_letters)"
   ]
  },
  {
   "cell_type": "code",
   "execution_count": null,
   "id": "929b3644",
   "metadata": {},
   "outputs": [],
   "source": [
    "# create a set of mixed data types\n",
    "mixed_set = {'Hello', 101, -2, 'Bye'}\n",
    "print('Set of mixed data types:', mixed_set)"
   ]
  },
  {
   "cell_type": "code",
   "execution_count": null,
   "id": "2a674089",
   "metadata": {},
   "outputs": [],
   "source": [
    "# create an empty set\n",
    "empty_set = set()"
   ]
  },
  {
   "cell_type": "code",
   "execution_count": 46,
   "id": "f22072ce",
   "metadata": {},
   "outputs": [
    {
     "name": "stdout",
     "output_type": "stream",
     "text": [
      "{False, True, 'cherry', 'apple', 'banana'}\n"
     ]
    }
   ],
   "source": [
    "#duplicate values are not allowed\n",
    "thisset = {\"apple\", \"banana\", \"cherry\", False, True, 0}\n",
    "\n",
    "print(thisset)"
   ]
  },
  {
   "cell_type": "code",
   "execution_count": 47,
   "id": "6957b4b9",
   "metadata": {},
   "outputs": [
    {
     "name": "stdout",
     "output_type": "stream",
     "text": [
      "{False, True, 'apple', 'banana'}\n"
     ]
    }
   ],
   "source": [
    "#Remove, add, copy\n",
    "\n",
    "thisset.remove('cherry')\n",
    "print(thisset)"
   ]
  },
  {
   "cell_type": "code",
   "execution_count": 51,
   "id": "7a7df17e",
   "metadata": {},
   "outputs": [
    {
     "name": "stdout",
     "output_type": "stream",
     "text": [
      "{False, True, 'Mango', 'apple', 'banana'}\n"
     ]
    }
   ],
   "source": [
    "thisset.add('Mango')\n",
    "print(thisset)"
   ]
  },
  {
   "cell_type": "code",
   "execution_count": 53,
   "id": "2e12adce",
   "metadata": {},
   "outputs": [
    {
     "name": "stdout",
     "output_type": "stream",
     "text": [
      "{False, True, 'Mango', 'apple', 'banana'}\n"
     ]
    }
   ],
   "source": [
    "new_set=thisset.copy()\n",
    "print(new_set)"
   ]
  },
  {
   "cell_type": "code",
   "execution_count": 59,
   "id": "95e6064b",
   "metadata": {},
   "outputs": [
    {
     "name": "stdout",
     "output_type": "stream",
     "text": [
      "{1, 9}\n"
     ]
    }
   ],
   "source": [
    "# sets of numbers\n",
    "A = {1, 3, 5, 7, 9}\n",
    "B = {2, 3, 5, 7, 11}\n",
    "\n",
    "# returns items present only in set A\n",
    "print(A.difference(B)) "
   ]
  },
  {
   "cell_type": "code",
   "execution_count": 55,
   "id": "87e39428",
   "metadata": {},
   "outputs": [
    {
     "name": "stdout",
     "output_type": "stream",
     "text": [
      "{3, 5, 7}\n"
     ]
    }
   ],
   "source": [
    "# compute intersection between A and B\n",
    "print(A.intersection(B))"
   ]
  },
  {
   "cell_type": "code",
   "execution_count": 56,
   "id": "84a78684",
   "metadata": {},
   "outputs": [
    {
     "name": "stdout",
     "output_type": "stream",
     "text": [
      "False\n"
     ]
    }
   ],
   "source": [
    "\"\"\"The issubset() method returns True if set A is the subset of B, i.e. if all the elements of set A are present in set B .\n",
    "Else, it returns False.\"\"\"\n",
    "\n",
    "# all items of A are present in B\n",
    "print(A.issubset(B))"
   ]
  },
  {
   "cell_type": "code",
   "execution_count": 60,
   "id": "bc8a7d66",
   "metadata": {},
   "outputs": [
    {
     "name": "stdout",
     "output_type": "stream",
     "text": [
      "1\n"
     ]
    }
   ],
   "source": [
    "removed_item = A.pop()\n",
    "print(removed_item)"
   ]
  },
  {
   "cell_type": "markdown",
   "id": "c6c30135",
   "metadata": {},
   "source": [
    "# if\n",
    "if condition:\n",
    "    # body of if statement"
   ]
  },
  {
   "cell_type": "code",
   "execution_count": 61,
   "id": "f0a1856f",
   "metadata": {},
   "outputs": [
    {
     "name": "stdout",
     "output_type": "stream",
     "text": [
      "Number is positive.\n",
      "The if statement is easy\n"
     ]
    }
   ],
   "source": [
    "number = 10\n",
    "\n",
    "# check if number is greater than 0\n",
    "if number > 0:\n",
    "    print('Number is positive.')\n",
    "\n",
    "print('The if statement is easy')"
   ]
  },
  {
   "cell_type": "markdown",
   "id": "f69186c7",
   "metadata": {},
   "source": [
    "# IF Else\n",
    "#Syntax\n",
    "#if condition:\n",
    "    # block of code if condition is True\n",
    "\n",
    "#else:\n",
    "    # block of code if condition is False    \n"
   ]
  },
  {
   "cell_type": "code",
   "execution_count": 12,
   "id": "501d4cc1",
   "metadata": {},
   "outputs": [
    {
     "name": "stdout",
     "output_type": "stream",
     "text": [
      "Thank you\n"
     ]
    }
   ],
   "source": [
    "num = -5\n",
    "if (num > 0):\n",
    "    print(\"Number is positive number.\")\n",
    "print('Thank you')"
   ]
  },
  {
   "cell_type": "code",
   "execution_count": 13,
   "id": "745ff0a7",
   "metadata": {},
   "outputs": [
    {
     "name": "stdout",
     "output_type": "stream",
     "text": [
      "Enter a number6\n",
      "Number is even number\n"
     ]
    }
   ],
   "source": [
    "num = int(input('Enter a number'))\n",
    "if(num % 2 == 0):\n",
    "    print('Number is even number')\n",
    "else:\n",
    "    print('Number is odd number.')"
   ]
  },
  {
   "cell_type": "markdown",
   "id": "ff9a64c1",
   "metadata": {},
   "source": [
    "# if elif else\n",
    "if condition1:\n",
    "    # code block 1\n",
    "\n",
    "elif condition2:\n",
    "    # code block 2\n",
    "\n",
    "else: \n",
    "    # code block 3"
   ]
  },
  {
   "cell_type": "code",
   "execution_count": 15,
   "id": "7c7abccb",
   "metadata": {},
   "outputs": [
    {
     "name": "stdout",
     "output_type": "stream",
     "text": [
      "Enter a number-5\n",
      "Number is negative number.\n"
     ]
    }
   ],
   "source": [
    "num = int(input('Enter a number'))\n",
    "if(num>0):\n",
    "    print('Number is positive number.')\n",
    "elif(num<0):\n",
    "    print('Number is negative number.')\n",
    "else:\n",
    "    print('Zero')"
   ]
  },
  {
   "cell_type": "code",
   "execution_count": 16,
   "id": "7db9bb72",
   "metadata": {},
   "outputs": [
    {
     "name": "stdout",
     "output_type": "stream",
     "text": [
      "Enter a number5\n",
      "2\t4\t"
     ]
    }
   ],
   "source": [
    "#printing even numbers\n",
    "n = int(input('Enter a number'))\n",
    "x = 1\n",
    "while x<=n:\n",
    "    if x%2==0:\n",
    "        print(x, end ='\\t')\n",
    "    x += 1\n"
   ]
  },
  {
   "cell_type": "code",
   "execution_count": 17,
   "id": "3a53e832",
   "metadata": {},
   "outputs": [
    {
     "name": "stdout",
     "output_type": "stream",
     "text": [
      "1\t2\t3\t4\t5\t6\t7\t8\t9\t10\t11\t12\t\n",
      "\n",
      "2\t4\t6\t8\t10\t12\t14\t16\t18\t20\t22\t24\t\n",
      "\n",
      "3\t6\t9\t12\t15\t18\t21\t24\t27\t30\t33\t36\t\n",
      "\n",
      "4\t8\t12\t16\t20\t24\t28\t32\t36\t40\t44\t48\t\n",
      "\n"
     ]
    }
   ],
   "source": [
    "i = 1\n",
    "while i<= 4:\n",
    "    j = 1\n",
    "    while j<= 12:\n",
    "        print(i*j, end = '\\t')\n",
    "        j+=1\n",
    "    i+=1\n",
    "    print('\\n')"
   ]
  },
  {
   "cell_type": "code",
   "execution_count": 17,
   "id": "f4e3398a",
   "metadata": {},
   "outputs": [
    {
     "name": "stdout",
     "output_type": "stream",
     "text": [
      "Enter a number4\n",
      "Sum is : 10\n"
     ]
    }
   ],
   "source": [
    "n = int(input('Enter a number'))\n",
    "sum = 0\n",
    "for x in range(1,n+1,1):\n",
    "    sum = sum + x\n",
    "print('Sum is :',sum)"
   ]
  },
  {
   "cell_type": "code",
   "execution_count": 18,
   "id": "848ed574",
   "metadata": {},
   "outputs": [
    {
     "name": "stdout",
     "output_type": "stream",
     "text": [
      "hello\n",
      "world\n",
      "python\n"
     ]
    }
   ],
   "source": [
    "l1 = ['hello','world','python']\n",
    "for i in range(len(l1)):\n",
    "    print(l1[i])"
   ]
  },
  {
   "cell_type": "code",
   "execution_count": 19,
   "id": "74670121",
   "metadata": {},
   "outputs": [
    {
     "name": "stdout",
     "output_type": "stream",
     "text": [
      "Python Beginners\n",
      "Python Intermediate\n",
      "Python Advanced\n",
      "DA Beginners\n",
      "DA Intermediate\n",
      "DA Advanced\n",
      "SQL Beginners\n",
      "SQL Intermediate\n",
      "SQL Advanced\n"
     ]
    }
   ],
   "source": [
    "sub = ['Python','DA','SQL']\n",
    "level =['Beginners','Intermediate','Advanced']\n",
    "\n",
    "for x in sub:\n",
    "    for y in level:\n",
    "        print(x,y)"
   ]
  },
  {
   "cell_type": "code",
   "execution_count": 20,
   "id": "6a19d15f",
   "metadata": {},
   "outputs": [
    {
     "name": "stdout",
     "output_type": "stream",
     "text": [
      "*\t\n",
      "*\t*\t\n",
      "*\t*\t*\t\n",
      "*\t*\t*\t*\t\n",
      "*\t*\t*\t*\t*\t\n"
     ]
    }
   ],
   "source": [
    "for r in range(1,6):             #r  from 1 to 5\n",
    "    for c in range(1,r+1):       #c  from 1 to 6\n",
    "        print('*',end='\\t')\n",
    "    print()"
   ]
  },
  {
   "cell_type": "code",
   "execution_count": 21,
   "id": "961f9422",
   "metadata": {},
   "outputs": [
    {
     "name": "stdout",
     "output_type": "stream",
     "text": [
      "Current character: P\n",
      "Current character: y\n",
      "Current character: t\n",
      "Current character: h\n",
      "Current character: o\n",
      "Current character: n\n"
     ]
    }
   ],
   "source": [
    "for char in 'Python':\n",
    "    if (char == 'h'):\n",
    "        pass\n",
    "    print('Current character:', char)"
   ]
  },
  {
   "cell_type": "code",
   "execution_count": 74,
   "id": "0d3c0488",
   "metadata": {},
   "outputs": [
    {
     "name": "stdout",
     "output_type": "stream",
     "text": [
      "N\n",
      "u\n",
      "m\n",
      "p\n",
      "y\n",
      "n\n",
      "i\n",
      "Out of for loop\n",
      "\n"
     ]
    }
   ],
   "source": [
    "# Python program to demonstrate \n",
    "# break statement \n",
    "  \n",
    "s = 'Numpyninja'\n",
    "# Using for loop \n",
    "for letter in s: \n",
    "  \n",
    "    print(letter) \n",
    "    # break the loop as soon it sees 'i' \n",
    "    # or 'j' \n",
    "    if letter == 'i' or letter == 'j': \n",
    "        break\n",
    "  \n",
    "print(\"Out of for loop\") \n",
    "print() \n",
    "  "
   ]
  },
  {
   "cell_type": "code",
   "execution_count": 75,
   "id": "ebf6da48",
   "metadata": {},
   "outputs": [
    {
     "name": "stdout",
     "output_type": "stream",
     "text": [
      "1 2 3 4 5 7 8 9 10 "
     ]
    }
   ],
   "source": [
    "\n",
    "\n",
    "# loop from 1 to 10\n",
    "for i in range(1, 11):\n",
    " \n",
    "    # If i is equals to 6,\n",
    "    # continue to next iteration\n",
    "    # without printing\n",
    "    if i == 6:\n",
    "        continue\n",
    "    else:\n",
    "        # otherwise print the value\n",
    "        # of i\n",
    "        print(i, end=\" \")"
   ]
  },
  {
   "cell_type": "code",
   "execution_count": null,
   "id": "30f43cad",
   "metadata": {},
   "outputs": [],
   "source": []
  },
  {
   "cell_type": "code",
   "execution_count": null,
   "id": "7cc6e062",
   "metadata": {},
   "outputs": [],
   "source": []
  },
  {
   "cell_type": "code",
   "execution_count": null,
   "id": "4c04f8b5",
   "metadata": {},
   "outputs": [],
   "source": []
  },
  {
   "cell_type": "code",
   "execution_count": null,
   "id": "b7c229d9",
   "metadata": {},
   "outputs": [],
   "source": []
  },
  {
   "cell_type": "code",
   "execution_count": null,
   "id": "eefb9afc",
   "metadata": {},
   "outputs": [],
   "source": []
  }
 ],
 "metadata": {
  "kernelspec": {
   "display_name": "Python 3",
   "language": "python",
   "name": "python3"
  },
  "language_info": {
   "codemirror_mode": {
    "name": "ipython",
    "version": 3
   },
   "file_extension": ".py",
   "mimetype": "text/x-python",
   "name": "python",
   "nbconvert_exporter": "python",
   "pygments_lexer": "ipython3",
   "version": "3.8.8"
  }
 },
 "nbformat": 4,
 "nbformat_minor": 5
}
